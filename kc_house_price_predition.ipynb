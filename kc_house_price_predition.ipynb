{
 "cells": [
  {
   "cell_type": "code",
   "execution_count": 150,
   "metadata": {},
   "outputs": [
    {
     "ename": "ImportError",
     "evalue": "cannot import name 'get_provider'",
     "output_type": "error",
     "traceback": [
      "\u001b[1;31m---------------------------------------------------------------------------\u001b[0m",
      "\u001b[1;31mImportError\u001b[0m                               Traceback (most recent call last)",
      "\u001b[1;32m<ipython-input-150-21ce546ebf70>\u001b[0m in \u001b[0;36m<module>\u001b[1;34m\u001b[0m\n\u001b[0;32m     29\u001b[0m \u001b[1;32mfrom\u001b[0m \u001b[0mbokeh\u001b[0m\u001b[1;33m.\u001b[0m\u001b[0mio\u001b[0m \u001b[1;32mimport\u001b[0m \u001b[0moutput_notebook\u001b[0m\u001b[1;33m,\u001b[0m\u001b[0mshow\u001b[0m\u001b[1;33m,\u001b[0m \u001b[0moutput_file\u001b[0m\u001b[1;33m\u001b[0m\u001b[1;33m\u001b[0m\u001b[0m\n\u001b[0;32m     30\u001b[0m \u001b[1;32mfrom\u001b[0m \u001b[0mbokeh\u001b[0m\u001b[1;33m.\u001b[0m\u001b[0mplotting\u001b[0m \u001b[1;32mimport\u001b[0m \u001b[0mfigure\u001b[0m\u001b[1;33m,\u001b[0m\u001b[0mColumnDataSource\u001b[0m\u001b[1;33m\u001b[0m\u001b[1;33m\u001b[0m\u001b[0m\n\u001b[1;32m---> 31\u001b[1;33m \u001b[1;32mfrom\u001b[0m \u001b[0mbokeh\u001b[0m\u001b[1;33m.\u001b[0m\u001b[0mtile_providers\u001b[0m \u001b[1;32mimport\u001b[0m \u001b[0mget_provider\u001b[0m\u001b[1;33m,\u001b[0m \u001b[0mCARTODBPOSITRON\u001b[0m\u001b[1;33m\u001b[0m\u001b[1;33m\u001b[0m\u001b[0m\n\u001b[0m\u001b[0;32m     32\u001b[0m \u001b[1;32mfrom\u001b[0m \u001b[0mbokeh\u001b[0m\u001b[1;33m.\u001b[0m\u001b[0mpalettes\u001b[0m \u001b[1;32mimport\u001b[0m \u001b[0mTurbo256\u001b[0m\u001b[1;33m,\u001b[0m\u001b[0mRdYlGn\u001b[0m\u001b[1;33m\u001b[0m\u001b[1;33m\u001b[0m\u001b[0m\n\u001b[0;32m     33\u001b[0m \u001b[1;32mfrom\u001b[0m \u001b[0mbokeh\u001b[0m\u001b[1;33m.\u001b[0m\u001b[0mtransform\u001b[0m \u001b[1;32mimport\u001b[0m \u001b[0mlinear_cmap\u001b[0m\u001b[1;33m,\u001b[0m\u001b[0mfactor_cmap\u001b[0m\u001b[1;33m\u001b[0m\u001b[1;33m\u001b[0m\u001b[0m\n",
      "\u001b[1;31mImportError\u001b[0m: cannot import name 'get_provider'"
     ]
    }
   ],
   "source": [
    "# Importing Libraries\n",
    "import pandas as pd\n",
    "import numpy as np\n",
    "\n",
    "from itertools import combinations\n",
    "\n",
    "import matplotlib.pyplot as plt\n",
    "import seaborn as sns \n",
    "%matplotlib inline \n",
    "plt.style.use('seaborn')\n",
    "\n",
    "from pathlib import Path\n",
    "import pickle\n",
    "import json\n",
    "\n",
    "from statsmodels.formula.api import ols\n",
    "import statsmodels.api as sm\n",
    "import scipy.stats as stats\n",
    "from sklearn.model_selection import train_test_split\n",
    "from sklearn.feature_selection import RFE\n",
    "from sklearn.linear_model import LinearRegression\n",
    "from sklearn.model_selection import KFold\n",
    "from sklearn.model_selection import cross_val_score\n",
    "from sklearn.preprocessing import PolynomialFeatures\n",
    "from sklearn.metrics import r2_score,mean_squared_error\n",
    "\n",
    "import geopandas as gpd\n",
    "\n",
    "from bokeh.io import output_notebook,show, output_file\n",
    "from bokeh.plotting import figure,ColumnDataSource\n",
    "from bokeh.tile_providers import get_provider, CARTODBPOSITRON\n",
    "from bokeh.palettes import Turbo256,RdYlGn\n",
    "from bokeh.transform import linear_cmap,factor_cmap\n",
    "from bokeh.layouts import row,column\n",
    "from bokeh.models import GeoJSONDataSource, LinearColorMapper,ColorBae,NumeralTickFormatter\n",
    "\n",
    "\n",
    "import folium\n",
    "from folium import plugins\n",
    "from folium.plugins import Heatmap\n",
    "\n",
    "import geopy.geocoders\n",
    "from geopy.extra.rate_limiter import RateLimiter\n",
    "from geopy.geocoders import Bing\n",
    "\n",
    "import reverse_geocoder as rg\n",
    "\n",
    "import warnings\n",
    "warning.filterwarnings('ignore')\n"
   ]
  },
  {
   "cell_type": "code",
   "execution_count": 9,
   "metadata": {},
   "outputs": [],
   "source": [
    "kc_data = pd.read_csv('Data/kc_house_data.csv')"
   ]
  },
  {
   "cell_type": "code",
   "execution_count": 10,
   "metadata": {},
   "outputs": [
    {
     "data": {
      "text/html": [
       "<div>\n",
       "<style scoped>\n",
       "    .dataframe tbody tr th:only-of-type {\n",
       "        vertical-align: middle;\n",
       "    }\n",
       "\n",
       "    .dataframe tbody tr th {\n",
       "        vertical-align: top;\n",
       "    }\n",
       "\n",
       "    .dataframe thead th {\n",
       "        text-align: right;\n",
       "    }\n",
       "</style>\n",
       "<table border=\"1\" class=\"dataframe\">\n",
       "  <thead>\n",
       "    <tr style=\"text-align: right;\">\n",
       "      <th></th>\n",
       "      <th>id</th>\n",
       "      <th>date</th>\n",
       "      <th>price</th>\n",
       "      <th>bedrooms</th>\n",
       "      <th>bathrooms</th>\n",
       "      <th>sqft_living</th>\n",
       "      <th>sqft_lot</th>\n",
       "      <th>floors</th>\n",
       "      <th>waterfront</th>\n",
       "      <th>view</th>\n",
       "      <th>...</th>\n",
       "      <th>grade</th>\n",
       "      <th>sqft_above</th>\n",
       "      <th>sqft_basement</th>\n",
       "      <th>yr_built</th>\n",
       "      <th>yr_renovated</th>\n",
       "      <th>zipcode</th>\n",
       "      <th>lat</th>\n",
       "      <th>long</th>\n",
       "      <th>sqft_living15</th>\n",
       "      <th>sqft_lot15</th>\n",
       "    </tr>\n",
       "  </thead>\n",
       "  <tbody>\n",
       "    <tr>\n",
       "      <th>0</th>\n",
       "      <td>7129300520</td>\n",
       "      <td>10/13/2014</td>\n",
       "      <td>221900.0</td>\n",
       "      <td>3</td>\n",
       "      <td>1.00</td>\n",
       "      <td>1180</td>\n",
       "      <td>5650</td>\n",
       "      <td>1.0</td>\n",
       "      <td>NaN</td>\n",
       "      <td>0.0</td>\n",
       "      <td>...</td>\n",
       "      <td>7</td>\n",
       "      <td>1180</td>\n",
       "      <td>0.0</td>\n",
       "      <td>1955</td>\n",
       "      <td>0.0</td>\n",
       "      <td>98178</td>\n",
       "      <td>47.5112</td>\n",
       "      <td>-122.257</td>\n",
       "      <td>1340</td>\n",
       "      <td>5650</td>\n",
       "    </tr>\n",
       "    <tr>\n",
       "      <th>1</th>\n",
       "      <td>6414100192</td>\n",
       "      <td>12/9/2014</td>\n",
       "      <td>538000.0</td>\n",
       "      <td>3</td>\n",
       "      <td>2.25</td>\n",
       "      <td>2570</td>\n",
       "      <td>7242</td>\n",
       "      <td>2.0</td>\n",
       "      <td>0.0</td>\n",
       "      <td>0.0</td>\n",
       "      <td>...</td>\n",
       "      <td>7</td>\n",
       "      <td>2170</td>\n",
       "      <td>400.0</td>\n",
       "      <td>1951</td>\n",
       "      <td>1991.0</td>\n",
       "      <td>98125</td>\n",
       "      <td>47.7210</td>\n",
       "      <td>-122.319</td>\n",
       "      <td>1690</td>\n",
       "      <td>7639</td>\n",
       "    </tr>\n",
       "    <tr>\n",
       "      <th>2</th>\n",
       "      <td>5631500400</td>\n",
       "      <td>2/25/2015</td>\n",
       "      <td>180000.0</td>\n",
       "      <td>2</td>\n",
       "      <td>1.00</td>\n",
       "      <td>770</td>\n",
       "      <td>10000</td>\n",
       "      <td>1.0</td>\n",
       "      <td>0.0</td>\n",
       "      <td>0.0</td>\n",
       "      <td>...</td>\n",
       "      <td>6</td>\n",
       "      <td>770</td>\n",
       "      <td>0.0</td>\n",
       "      <td>1933</td>\n",
       "      <td>NaN</td>\n",
       "      <td>98028</td>\n",
       "      <td>47.7379</td>\n",
       "      <td>-122.233</td>\n",
       "      <td>2720</td>\n",
       "      <td>8062</td>\n",
       "    </tr>\n",
       "    <tr>\n",
       "      <th>3</th>\n",
       "      <td>2487200875</td>\n",
       "      <td>12/9/2014</td>\n",
       "      <td>604000.0</td>\n",
       "      <td>4</td>\n",
       "      <td>3.00</td>\n",
       "      <td>1960</td>\n",
       "      <td>5000</td>\n",
       "      <td>1.0</td>\n",
       "      <td>0.0</td>\n",
       "      <td>0.0</td>\n",
       "      <td>...</td>\n",
       "      <td>7</td>\n",
       "      <td>1050</td>\n",
       "      <td>910.0</td>\n",
       "      <td>1965</td>\n",
       "      <td>0.0</td>\n",
       "      <td>98136</td>\n",
       "      <td>47.5208</td>\n",
       "      <td>-122.393</td>\n",
       "      <td>1360</td>\n",
       "      <td>5000</td>\n",
       "    </tr>\n",
       "    <tr>\n",
       "      <th>4</th>\n",
       "      <td>1954400510</td>\n",
       "      <td>2/18/2015</td>\n",
       "      <td>510000.0</td>\n",
       "      <td>3</td>\n",
       "      <td>2.00</td>\n",
       "      <td>1680</td>\n",
       "      <td>8080</td>\n",
       "      <td>1.0</td>\n",
       "      <td>0.0</td>\n",
       "      <td>0.0</td>\n",
       "      <td>...</td>\n",
       "      <td>8</td>\n",
       "      <td>1680</td>\n",
       "      <td>0.0</td>\n",
       "      <td>1987</td>\n",
       "      <td>0.0</td>\n",
       "      <td>98074</td>\n",
       "      <td>47.6168</td>\n",
       "      <td>-122.045</td>\n",
       "      <td>1800</td>\n",
       "      <td>7503</td>\n",
       "    </tr>\n",
       "  </tbody>\n",
       "</table>\n",
       "<p>5 rows × 21 columns</p>\n",
       "</div>"
      ],
      "text/plain": [
       "           id        date     price  bedrooms  bathrooms  sqft_living  \\\n",
       "0  7129300520  10/13/2014  221900.0         3       1.00         1180   \n",
       "1  6414100192   12/9/2014  538000.0         3       2.25         2570   \n",
       "2  5631500400   2/25/2015  180000.0         2       1.00          770   \n",
       "3  2487200875   12/9/2014  604000.0         4       3.00         1960   \n",
       "4  1954400510   2/18/2015  510000.0         3       2.00         1680   \n",
       "\n",
       "   sqft_lot  floors  waterfront  view  ...  grade  sqft_above  sqft_basement  \\\n",
       "0      5650     1.0         NaN   0.0  ...      7        1180            0.0   \n",
       "1      7242     2.0         0.0   0.0  ...      7        2170          400.0   \n",
       "2     10000     1.0         0.0   0.0  ...      6         770            0.0   \n",
       "3      5000     1.0         0.0   0.0  ...      7        1050          910.0   \n",
       "4      8080     1.0         0.0   0.0  ...      8        1680            0.0   \n",
       "\n",
       "  yr_built  yr_renovated  zipcode      lat     long  sqft_living15  sqft_lot15  \n",
       "0     1955           0.0    98178  47.5112 -122.257           1340        5650  \n",
       "1     1951        1991.0    98125  47.7210 -122.319           1690        7639  \n",
       "2     1933           NaN    98028  47.7379 -122.233           2720        8062  \n",
       "3     1965           0.0    98136  47.5208 -122.393           1360        5000  \n",
       "4     1987           0.0    98074  47.6168 -122.045           1800        7503  \n",
       "\n",
       "[5 rows x 21 columns]"
      ]
     },
     "execution_count": 10,
     "metadata": {},
     "output_type": "execute_result"
    }
   ],
   "source": [
    "kc_data.head()"
   ]
  },
  {
   "cell_type": "code",
   "execution_count": 11,
   "metadata": {},
   "outputs": [
    {
     "data": {
      "text/plain": [
       "21597"
      ]
     },
     "execution_count": 11,
     "metadata": {},
     "output_type": "execute_result"
    }
   ],
   "source": [
    "len(kc_data)"
   ]
  },
  {
   "cell_type": "markdown",
   "metadata": {},
   "source": [
    "Train-Test split"
   ]
  },
  {
   "cell_type": "code",
   "execution_count": 12,
   "metadata": {},
   "outputs": [],
   "source": [
    "x = kc_data.drop('price', axis = 1)\n",
    "y = kc_data['price']"
   ]
  },
  {
   "cell_type": "code",
   "execution_count": 19,
   "metadata": {},
   "outputs": [],
   "source": [
    "#train-test split (10% to test)\n",
    "x_train, x_test, y_train, y_test = train_test_split(x,y,test_size=0.1,random_state=42) "
   ]
  },
  {
   "cell_type": "code",
   "execution_count": 20,
   "metadata": {},
   "outputs": [
    {
     "name": "stdout",
     "output_type": "stream",
     "text": [
      "19437 2160 19437 2160\n"
     ]
    }
   ],
   "source": [
    "print(len(x_train),len(x_test),len(y_train),len(y_test))"
   ]
  },
  {
   "cell_type": "code",
   "execution_count": 22,
   "metadata": {},
   "outputs": [],
   "source": [
    "#setting training set with features and target\n",
    "df =pd.concat([x_train,y_train],axis=1)"
   ]
  },
  {
   "cell_type": "code",
   "execution_count": 23,
   "metadata": {},
   "outputs": [
    {
     "data": {
      "text/html": [
       "<div>\n",
       "<style scoped>\n",
       "    .dataframe tbody tr th:only-of-type {\n",
       "        vertical-align: middle;\n",
       "    }\n",
       "\n",
       "    .dataframe tbody tr th {\n",
       "        vertical-align: top;\n",
       "    }\n",
       "\n",
       "    .dataframe thead th {\n",
       "        text-align: right;\n",
       "    }\n",
       "</style>\n",
       "<table border=\"1\" class=\"dataframe\">\n",
       "  <thead>\n",
       "    <tr style=\"text-align: right;\">\n",
       "      <th></th>\n",
       "      <th>id</th>\n",
       "      <th>date</th>\n",
       "      <th>bedrooms</th>\n",
       "      <th>bathrooms</th>\n",
       "      <th>sqft_living</th>\n",
       "      <th>sqft_lot</th>\n",
       "      <th>floors</th>\n",
       "      <th>waterfront</th>\n",
       "      <th>view</th>\n",
       "      <th>condition</th>\n",
       "      <th>...</th>\n",
       "      <th>sqft_above</th>\n",
       "      <th>sqft_basement</th>\n",
       "      <th>yr_built</th>\n",
       "      <th>yr_renovated</th>\n",
       "      <th>zipcode</th>\n",
       "      <th>lat</th>\n",
       "      <th>long</th>\n",
       "      <th>sqft_living15</th>\n",
       "      <th>sqft_lot15</th>\n",
       "      <th>price</th>\n",
       "    </tr>\n",
       "  </thead>\n",
       "  <tbody>\n",
       "    <tr>\n",
       "      <th>13820</th>\n",
       "      <td>9393700065</td>\n",
       "      <td>4/23/2015</td>\n",
       "      <td>3</td>\n",
       "      <td>1.75</td>\n",
       "      <td>1300</td>\n",
       "      <td>5120</td>\n",
       "      <td>1.5</td>\n",
       "      <td>0.0</td>\n",
       "      <td>0.0</td>\n",
       "      <td>4</td>\n",
       "      <td>...</td>\n",
       "      <td>1300</td>\n",
       "      <td>0.0</td>\n",
       "      <td>1925</td>\n",
       "      <td>0.0</td>\n",
       "      <td>98116</td>\n",
       "      <td>47.5589</td>\n",
       "      <td>-122.394</td>\n",
       "      <td>1090</td>\n",
       "      <td>5124</td>\n",
       "      <td>515000.0</td>\n",
       "    </tr>\n",
       "    <tr>\n",
       "      <th>1703</th>\n",
       "      <td>7978800621</td>\n",
       "      <td>8/11/2014</td>\n",
       "      <td>3</td>\n",
       "      <td>1.00</td>\n",
       "      <td>1370</td>\n",
       "      <td>56628</td>\n",
       "      <td>1.0</td>\n",
       "      <td>0.0</td>\n",
       "      <td>0.0</td>\n",
       "      <td>3</td>\n",
       "      <td>...</td>\n",
       "      <td>1370</td>\n",
       "      <td>0.0</td>\n",
       "      <td>1942</td>\n",
       "      <td>0.0</td>\n",
       "      <td>98003</td>\n",
       "      <td>47.3058</td>\n",
       "      <td>-122.306</td>\n",
       "      <td>1768</td>\n",
       "      <td>8702</td>\n",
       "      <td>229000.0</td>\n",
       "    </tr>\n",
       "    <tr>\n",
       "      <th>4375</th>\n",
       "      <td>223039330</td>\n",
       "      <td>4/7/2015</td>\n",
       "      <td>3</td>\n",
       "      <td>3.00</td>\n",
       "      <td>3250</td>\n",
       "      <td>5093</td>\n",
       "      <td>2.0</td>\n",
       "      <td>0.0</td>\n",
       "      <td>3.0</td>\n",
       "      <td>3</td>\n",
       "      <td>...</td>\n",
       "      <td>3250</td>\n",
       "      <td>0.0</td>\n",
       "      <td>2004</td>\n",
       "      <td>0.0</td>\n",
       "      <td>98146</td>\n",
       "      <td>47.5123</td>\n",
       "      <td>-122.390</td>\n",
       "      <td>2820</td>\n",
       "      <td>7752</td>\n",
       "      <td>1050000.0</td>\n",
       "    </tr>\n",
       "    <tr>\n",
       "      <th>11872</th>\n",
       "      <td>5631501323</td>\n",
       "      <td>8/5/2014</td>\n",
       "      <td>3</td>\n",
       "      <td>1.50</td>\n",
       "      <td>1340</td>\n",
       "      <td>13560</td>\n",
       "      <td>1.0</td>\n",
       "      <td>0.0</td>\n",
       "      <td>0.0</td>\n",
       "      <td>3</td>\n",
       "      <td>...</td>\n",
       "      <td>1340</td>\n",
       "      <td>0.0</td>\n",
       "      <td>1968</td>\n",
       "      <td>0.0</td>\n",
       "      <td>98028</td>\n",
       "      <td>47.7410</td>\n",
       "      <td>-122.234</td>\n",
       "      <td>1540</td>\n",
       "      <td>15000</td>\n",
       "      <td>309500.0</td>\n",
       "    </tr>\n",
       "    <tr>\n",
       "      <th>9625</th>\n",
       "      <td>1773101050</td>\n",
       "      <td>2/20/2015</td>\n",
       "      <td>3</td>\n",
       "      <td>1.00</td>\n",
       "      <td>960</td>\n",
       "      <td>4560</td>\n",
       "      <td>1.0</td>\n",
       "      <td>0.0</td>\n",
       "      <td>0.0</td>\n",
       "      <td>4</td>\n",
       "      <td>...</td>\n",
       "      <td>960</td>\n",
       "      <td>0.0</td>\n",
       "      <td>1968</td>\n",
       "      <td>NaN</td>\n",
       "      <td>98106</td>\n",
       "      <td>47.5539</td>\n",
       "      <td>-122.365</td>\n",
       "      <td>970</td>\n",
       "      <td>4800</td>\n",
       "      <td>290000.0</td>\n",
       "    </tr>\n",
       "  </tbody>\n",
       "</table>\n",
       "<p>5 rows × 21 columns</p>\n",
       "</div>"
      ],
      "text/plain": [
       "               id       date  bedrooms  bathrooms  sqft_living  sqft_lot  \\\n",
       "13820  9393700065  4/23/2015         3       1.75         1300      5120   \n",
       "1703   7978800621  8/11/2014         3       1.00         1370     56628   \n",
       "4375    223039330   4/7/2015         3       3.00         3250      5093   \n",
       "11872  5631501323   8/5/2014         3       1.50         1340     13560   \n",
       "9625   1773101050  2/20/2015         3       1.00          960      4560   \n",
       "\n",
       "       floors  waterfront  view  condition  ...  sqft_above  sqft_basement  \\\n",
       "13820     1.5         0.0   0.0          4  ...        1300            0.0   \n",
       "1703      1.0         0.0   0.0          3  ...        1370            0.0   \n",
       "4375      2.0         0.0   3.0          3  ...        3250            0.0   \n",
       "11872     1.0         0.0   0.0          3  ...        1340            0.0   \n",
       "9625      1.0         0.0   0.0          4  ...         960            0.0   \n",
       "\n",
       "      yr_built  yr_renovated  zipcode      lat     long  sqft_living15  \\\n",
       "13820     1925           0.0    98116  47.5589 -122.394           1090   \n",
       "1703      1942           0.0    98003  47.3058 -122.306           1768   \n",
       "4375      2004           0.0    98146  47.5123 -122.390           2820   \n",
       "11872     1968           0.0    98028  47.7410 -122.234           1540   \n",
       "9625      1968           NaN    98106  47.5539 -122.365            970   \n",
       "\n",
       "       sqft_lot15      price  \n",
       "13820        5124   515000.0  \n",
       "1703         8702   229000.0  \n",
       "4375         7752  1050000.0  \n",
       "11872       15000   309500.0  \n",
       "9625         4800   290000.0  \n",
       "\n",
       "[5 rows x 21 columns]"
      ]
     },
     "execution_count": 23,
     "metadata": {},
     "output_type": "execute_result"
    }
   ],
   "source": [
    "df.head()"
   ]
  },
  {
   "cell_type": "markdown",
   "metadata": {},
   "source": [
    "## Scrubbing data"
   ]
  },
  {
   "cell_type": "code",
   "execution_count": 24,
   "metadata": {},
   "outputs": [
    {
     "name": "stdout",
     "output_type": "stream",
     "text": [
      "<class 'pandas.core.frame.DataFrame'>\n",
      "Int64Index: 19437 entries, 13820 to 15795\n",
      "Data columns (total 21 columns):\n",
      "id               19437 non-null int64\n",
      "date             19437 non-null object\n",
      "bedrooms         19437 non-null int64\n",
      "bathrooms        19437 non-null float64\n",
      "sqft_living      19437 non-null int64\n",
      "sqft_lot         19437 non-null int64\n",
      "floors           19437 non-null float64\n",
      "waterfront       17299 non-null float64\n",
      "view             19376 non-null float64\n",
      "condition        19437 non-null int64\n",
      "grade            19437 non-null int64\n",
      "sqft_above       19437 non-null int64\n",
      "sqft_basement    19437 non-null object\n",
      "yr_built         19437 non-null int64\n",
      "yr_renovated     15998 non-null float64\n",
      "zipcode          19437 non-null int64\n",
      "lat              19437 non-null float64\n",
      "long             19437 non-null float64\n",
      "sqft_living15    19437 non-null int64\n",
      "sqft_lot15       19437 non-null int64\n",
      "price            19437 non-null float64\n",
      "dtypes: float64(8), int64(11), object(2)\n",
      "memory usage: 3.3+ MB\n"
     ]
    }
   ],
   "source": [
    "df.info()"
   ]
  },
  {
   "cell_type": "code",
   "execution_count": 25,
   "metadata": {},
   "outputs": [],
   "source": [
    "#modifing date field\n",
    "df['date'] = pd.to_datetime(df['date'])"
   ]
  },
  {
   "cell_type": "code",
   "execution_count": 26,
   "metadata": {},
   "outputs": [
    {
     "data": {
      "text/plain": [
       "0.0       11553\n",
       "?           415\n",
       "600.0       196\n",
       "500.0       188\n",
       "800.0       186\n",
       "          ...  \n",
       "2196.0        1\n",
       "266.0         1\n",
       "2240.0        1\n",
       "768.0         1\n",
       "1920.0        1\n",
       "Name: sqft_basement, Length: 296, dtype: int64"
      ]
     },
     "execution_count": 26,
     "metadata": {},
     "output_type": "execute_result"
    }
   ],
   "source": [
    "df['sqft_basement'].value_counts()"
   ]
  },
  {
   "cell_type": "code",
   "execution_count": 27,
   "metadata": {},
   "outputs": [
    {
     "data": {
      "text/plain": [
       "count     19437\n",
       "unique      296\n",
       "top         0.0\n",
       "freq      11553\n",
       "Name: sqft_basement, dtype: object"
      ]
     },
     "execution_count": 27,
     "metadata": {},
     "output_type": "execute_result"
    }
   ],
   "source": [
    "df['sqft_basement'].describe()"
   ]
  },
  {
   "cell_type": "markdown",
   "metadata": {},
   "source": [
    "#### lots of 0's and ?'s in sqft_basement"
   ]
  },
  {
   "cell_type": "code",
   "execution_count": 28,
   "metadata": {},
   "outputs": [],
   "source": [
    "df['sqft_basement'] = df['sqft_basement'].map(lambda x: float(x.replace('?','0')))"
   ]
  },
  {
   "cell_type": "markdown",
   "metadata": {},
   "source": [
    "#### dealing with null values"
   ]
  },
  {
   "cell_type": "code",
   "execution_count": 29,
   "metadata": {},
   "outputs": [
    {
     "data": {
      "text/plain": [
       "id                  0\n",
       "date                0\n",
       "bedrooms            0\n",
       "bathrooms           0\n",
       "sqft_living         0\n",
       "sqft_lot            0\n",
       "floors              0\n",
       "waterfront       2138\n",
       "view               61\n",
       "condition           0\n",
       "grade               0\n",
       "sqft_above          0\n",
       "sqft_basement       0\n",
       "yr_built            0\n",
       "yr_renovated     3439\n",
       "zipcode             0\n",
       "lat                 0\n",
       "long                0\n",
       "sqft_living15       0\n",
       "sqft_lot15          0\n",
       "price               0\n",
       "dtype: int64"
      ]
     },
     "execution_count": 29,
     "metadata": {},
     "output_type": "execute_result"
    }
   ],
   "source": [
    "df.isna().sum()"
   ]
  },
  {
   "cell_type": "code",
   "execution_count": 30,
   "metadata": {},
   "outputs": [
    {
     "name": "stdout",
     "output_type": "stream",
     "text": [
      " waterfront:0.11\n",
      " view:0.003\n",
      " yr_renovated:0.177\n"
     ]
    }
   ],
   "source": [
    "for col in['waterfront','view','yr_renovated']:\n",
    "    percent_missing = df[col].isnull().sum()/len(df)\n",
    "    print(f\" {col}:{round(percent_missing,3)}\")"
   ]
  },
  {
   "cell_type": "code",
   "execution_count": 40,
   "metadata": {},
   "outputs": [
    {
     "data": {
      "text/html": [
       "<div>\n",
       "<style scoped>\n",
       "    .dataframe tbody tr th:only-of-type {\n",
       "        vertical-align: middle;\n",
       "    }\n",
       "\n",
       "    .dataframe tbody tr th {\n",
       "        vertical-align: top;\n",
       "    }\n",
       "\n",
       "    .dataframe thead th {\n",
       "        text-align: right;\n",
       "    }\n",
       "</style>\n",
       "<table border=\"1\" class=\"dataframe\">\n",
       "  <thead>\n",
       "    <tr style=\"text-align: right;\">\n",
       "      <th></th>\n",
       "      <th>waterfront</th>\n",
       "      <th>view</th>\n",
       "      <th>yr_renovated</th>\n",
       "    </tr>\n",
       "  </thead>\n",
       "  <tbody>\n",
       "    <tr>\n",
       "      <th>count</th>\n",
       "      <td>17299.000000</td>\n",
       "      <td>19376.000000</td>\n",
       "      <td>15998.000000</td>\n",
       "    </tr>\n",
       "    <tr>\n",
       "      <th>mean</th>\n",
       "      <td>0.007746</td>\n",
       "      <td>0.233072</td>\n",
       "      <td>83.090761</td>\n",
       "    </tr>\n",
       "    <tr>\n",
       "      <th>std</th>\n",
       "      <td>0.087673</td>\n",
       "      <td>0.765698</td>\n",
       "      <td>398.696622</td>\n",
       "    </tr>\n",
       "    <tr>\n",
       "      <th>min</th>\n",
       "      <td>0.000000</td>\n",
       "      <td>0.000000</td>\n",
       "      <td>0.000000</td>\n",
       "    </tr>\n",
       "    <tr>\n",
       "      <th>25%</th>\n",
       "      <td>0.000000</td>\n",
       "      <td>0.000000</td>\n",
       "      <td>0.000000</td>\n",
       "    </tr>\n",
       "    <tr>\n",
       "      <th>50%</th>\n",
       "      <td>0.000000</td>\n",
       "      <td>0.000000</td>\n",
       "      <td>0.000000</td>\n",
       "    </tr>\n",
       "    <tr>\n",
       "      <th>75%</th>\n",
       "      <td>0.000000</td>\n",
       "      <td>0.000000</td>\n",
       "      <td>0.000000</td>\n",
       "    </tr>\n",
       "    <tr>\n",
       "      <th>max</th>\n",
       "      <td>1.000000</td>\n",
       "      <td>4.000000</td>\n",
       "      <td>2015.000000</td>\n",
       "    </tr>\n",
       "  </tbody>\n",
       "</table>\n",
       "</div>"
      ],
      "text/plain": [
       "         waterfront          view  yr_renovated\n",
       "count  17299.000000  19376.000000  15998.000000\n",
       "mean       0.007746      0.233072     83.090761\n",
       "std        0.087673      0.765698    398.696622\n",
       "min        0.000000      0.000000      0.000000\n",
       "25%        0.000000      0.000000      0.000000\n",
       "50%        0.000000      0.000000      0.000000\n",
       "75%        0.000000      0.000000      0.000000\n",
       "max        1.000000      4.000000   2015.000000"
      ]
     },
     "execution_count": 40,
     "metadata": {},
     "output_type": "execute_result"
    }
   ],
   "source": [
    "df[['waterfront','view','yr_renovated']].describe()"
   ]
  },
  {
   "cell_type": "code",
   "execution_count": 43,
   "metadata": {},
   "outputs": [],
   "source": [
    "def fill_na_vals(df):\n",
    "    \n",
    "    return df.fillna(0)"
   ]
  },
  {
   "cell_type": "code",
   "execution_count": 44,
   "metadata": {},
   "outputs": [],
   "source": [
    "df = fill_na_vals(df)"
   ]
  },
  {
   "cell_type": "code",
   "execution_count": 46,
   "metadata": {},
   "outputs": [
    {
     "data": {
      "text/plain": [
       "id               False\n",
       "date             False\n",
       "bedrooms         False\n",
       "bathrooms        False\n",
       "sqft_living      False\n",
       "sqft_lot         False\n",
       "floors           False\n",
       "waterfront       False\n",
       "view             False\n",
       "condition        False\n",
       "grade            False\n",
       "sqft_above       False\n",
       "sqft_basement    False\n",
       "yr_built         False\n",
       "yr_renovated     False\n",
       "zipcode          False\n",
       "lat              False\n",
       "long             False\n",
       "sqft_living15    False\n",
       "sqft_lot15       False\n",
       "price            False\n",
       "dtype: bool"
      ]
     },
     "execution_count": 46,
     "metadata": {},
     "output_type": "execute_result"
    }
   ],
   "source": [
    "df.isna().any()"
   ]
  },
  {
   "cell_type": "markdown",
   "metadata": {},
   "source": [
    "#### Check dupes"
   ]
  },
  {
   "cell_type": "code",
   "execution_count": 47,
   "metadata": {},
   "outputs": [
    {
     "name": "stdout",
     "output_type": "stream",
     "text": [
      "0\n"
     ]
    }
   ],
   "source": [
    "dups = df[df.duplicated()]\n",
    "print(len(dups))"
   ]
  },
  {
   "cell_type": "markdown",
   "metadata": {},
   "source": [
    "##### no duplicate entries"
   ]
  },
  {
   "cell_type": "markdown",
   "metadata": {},
   "source": [
    "#### Check duplicate ID's"
   ]
  },
  {
   "cell_type": "code",
   "execution_count": 49,
   "metadata": {
    "scrolled": true
   },
   "outputs": [
    {
     "name": "stdout",
     "output_type": "stream",
     "text": [
      "139\n"
     ]
    }
   ],
   "source": [
    "dups = df[df.duplicated(subset=['id'])]\n",
    "print(len(dups))"
   ]
  },
  {
   "cell_type": "markdown",
   "metadata": {},
   "source": [
    "#### same properties sold multiple times -- leaving as is"
   ]
  },
  {
   "cell_type": "markdown",
   "metadata": {},
   "source": [
    "## Initial features review"
   ]
  },
  {
   "cell_type": "code",
   "execution_count": 63,
   "metadata": {},
   "outputs": [
    {
     "data": {
      "image/png": "[encoded data removed]",
      "text/plain": [
       "<Figure size 576x396 with 1 Axes>"
      ]
     },
     "metadata": {},
     "output_type": "display_data"
    }
   ],
   "source": [
    "# visualizing yr_renovated \n",
    "df[df['yr_renovated'] > 1900]['yr_renovated'].hist()\n",
    "plt.xlabel ('Year')\n",
    "plt.ylabel('Frequency')\n",
    "\n",
    "plt.title('Distribution of year renovated')\n",
    "plt.show()"
   ]
  },
  {
   "cell_type": "markdown",
   "metadata": {},
   "source": [
    "Will focus on renovations after 1990 as properties with renovations prior to this date might require some additional work. \n",
    "\n",
    "Will also create a new feature labelled 'renovation_feature' that captures post 1990 renovations."
   ]
  },
  {
   "cell_type": "code",
   "execution_count": 64,
   "metadata": {},
   "outputs": [],
   "source": [
    "def renovation_feature(df):\n",
    "    df['was_renovated_post_90'] = df['yr_renovated'].map(lambda x: 1 if x > 1990 else 0)\n",
    "    df = df.drop('yr_renovated', axis = 1)\n",
    "    \n",
    "    return df"
   ]
  },
  {
   "cell_type": "code",
   "execution_count": 65,
   "metadata": {},
   "outputs": [],
   "source": [
    "df = renovation_feature(df)"
   ]
  },
  {
   "cell_type": "markdown",
   "metadata": {},
   "source": [
    "Now lets look at yr_built"
   ]
  },
  {
   "cell_type": "code",
   "execution_count": 66,
   "metadata": {},
   "outputs": [
    {
     "data": {
      "text/plain": [
       "count    19437.000000\n",
       "mean      1971.029531\n",
       "std         29.384345\n",
       "min       1900.000000\n",
       "25%       1952.000000\n",
       "50%       1975.000000\n",
       "75%       1997.000000\n",
       "max       2015.000000\n",
       "Name: yr_built, dtype: float64"
      ]
     },
     "execution_count": 66,
     "metadata": {},
     "output_type": "execute_result"
    }
   ],
   "source": [
    "df['yr_built'].describe()"
   ]
  },
  {
   "cell_type": "code",
   "execution_count": 67,
   "metadata": {},
   "outputs": [
    {
     "data": {
      "image/png": "[encoded data removed]",
      "text/plain": [
       "<Figure size 576x396 with 1 Axes>"
      ]
     },
     "metadata": {},
     "output_type": "display_data"
    }
   ],
   "source": [
    "df['yr_built'].hist()\n",
    "plt.xlabel('Year')\n",
    "plt.ylabel('Frequency')\n",
    "plt.title('Distribution of year built')\n",
    "plt.show()"
   ]
  },
  {
   "cell_type": "markdown",
   "metadata": {},
   "source": [
    "Creating bins to group yr_built to further build features. Additionally will use the summary statistics to define our bins to kepp roughly the same number of data point in our newly created bins"
   ]
  },
  {
   "cell_type": "code",
   "execution_count": 71,
   "metadata": {},
   "outputs": [],
   "source": [
    "def year_built(df):\n",
    "    yr_built_bins = [1899,1950,1975,1997,2016]\n",
    "    yr_built_labels = ['pre_1950', '1950_1975', '1975_1997','1997_2015']\n",
    "    df['yr_built'] = pd.cut(df['yr_built'],bins = yr_built_bins, labels = yr_built_labels)\n",
    "    \n",
    "    return df"
   ]
  },
  {
   "cell_type": "code",
   "execution_count": 72,
   "metadata": {},
   "outputs": [],
   "source": [
    "df = year_built(df)"
   ]
  },
  {
   "cell_type": "markdown",
   "metadata": {},
   "source": [
    "Adding a feature called 'has_basement' as seen earlier sqft_basement had a lot of 0 values. Feature will have a value of 1 if the house has a basement else 0 if not. will also drop the original column sqft_basement."
   ]
  },
  {
   "cell_type": "code",
   "execution_count": 73,
   "metadata": {},
   "outputs": [],
   "source": [
    "def has_basement(df):\n",
    "    df['has_basement'] = df['sqft_basement'].map(lambda x: 1 if x > 0 else 0)\n",
    "    df = df.drop('sqft_basement',axis=1)\n",
    "    \n",
    "    return df"
   ]
  },
  {
   "cell_type": "code",
   "execution_count": 74,
   "metadata": {},
   "outputs": [],
   "source": [
    "df = has_basement(df)"
   ]
  },
  {
   "cell_type": "markdown",
   "metadata": {},
   "source": [
    "Similar to has_basement, will create a 'Viewed' feature. This will have the value of 1 if viewed and 0 if not yet viewed.  "
   ]
  },
  {
   "cell_type": "code",
   "execution_count": 75,
   "metadata": {},
   "outputs": [],
   "source": [
    "def viewed(df):\n",
    "    df['viewed'] = df['view'].map(lambda x: 1 if x>0 else 0)\n",
    "    df = df.drop('view',axis = 1)\n",
    "    \n",
    "    return df"
   ]
  },
  {
   "cell_type": "code",
   "execution_count": 76,
   "metadata": {},
   "outputs": [],
   "source": [
    "df = viewed(df)"
   ]
  },
  {
   "cell_type": "markdown",
   "metadata": {},
   "source": [
    "Building out the bath feature"
   ]
  },
  {
   "cell_type": "code",
   "execution_count": 77,
   "metadata": {},
   "outputs": [
    {
     "data": {
      "text/plain": [
       "count    19437.000000\n",
       "mean         2.115347\n",
       "std          0.768090\n",
       "min          0.500000\n",
       "25%          1.750000\n",
       "50%          2.250000\n",
       "75%          2.500000\n",
       "max          8.000000\n",
       "Name: bathrooms, dtype: float64"
      ]
     },
     "execution_count": 77,
     "metadata": {},
     "output_type": "execute_result"
    }
   ],
   "source": [
    "df['bathrooms'].describe()"
   ]
  },
  {
   "cell_type": "code",
   "execution_count": 79,
   "metadata": {},
   "outputs": [
    {
     "data": {
      "text/plain": [
       "array([1.75, 1.  , 3.  , 1.5 , 2.  , 2.5 , 2.25, 2.75, 4.  , 3.5 , 3.25,\n",
       "       7.5 , 4.75, 4.25, 3.75, 0.75, 5.5 , 5.25, 4.5 , 5.  , 1.25, 6.25,\n",
       "       7.75, 6.5 , 0.5 , 5.75, 6.  , 8.  , 6.75])"
      ]
     },
     "execution_count": 79,
     "metadata": {},
     "output_type": "execute_result"
    }
   ],
   "source": [
    "df['bathrooms'].unique()"
   ]
  },
  {
   "cell_type": "markdown",
   "metadata": {},
   "source": [
    "From the column names file, bathrooms should contain the indicated number of bathrooms per bedroom. The max of 8 and median of 2.25 doesnt seem to make a lot of sense. However I see that it relates to the overall bathroom count with the float indicating  a toilet but no shower.\n",
    "\n",
    "To simplify, I'm going to round this feature to the nearest number"
   ]
  },
  {
   "cell_type": "code",
   "execution_count": 80,
   "metadata": {},
   "outputs": [],
   "source": [
    "def round_bath(df):\n",
    "    df['bathrooms'] = df['bathrooms'].map(lambda x: int(round(x,0)))\n",
    "    \n",
    "    return df"
   ]
  },
  {
   "cell_type": "code",
   "execution_count": 81,
   "metadata": {},
   "outputs": [],
   "source": [
    "df = round_bath(df)"
   ]
  },
  {
   "cell_type": "code",
   "execution_count": 82,
   "metadata": {},
   "outputs": [
    {
     "data": {
      "text/html": [
       "<div>\n",
       "<style scoped>\n",
       "    .dataframe tbody tr th:only-of-type {\n",
       "        vertical-align: middle;\n",
       "    }\n",
       "\n",
       "    .dataframe tbody tr th {\n",
       "        vertical-align: top;\n",
       "    }\n",
       "\n",
       "    .dataframe thead th {\n",
       "        text-align: right;\n",
       "    }\n",
       "</style>\n",
       "<table border=\"1\" class=\"dataframe\">\n",
       "  <thead>\n",
       "    <tr style=\"text-align: right;\">\n",
       "      <th></th>\n",
       "      <th>id</th>\n",
       "      <th>date</th>\n",
       "      <th>bedrooms</th>\n",
       "      <th>bathrooms</th>\n",
       "      <th>sqft_living</th>\n",
       "      <th>sqft_lot</th>\n",
       "      <th>floors</th>\n",
       "      <th>waterfront</th>\n",
       "      <th>condition</th>\n",
       "      <th>grade</th>\n",
       "      <th>...</th>\n",
       "      <th>yr_built</th>\n",
       "      <th>zipcode</th>\n",
       "      <th>lat</th>\n",
       "      <th>long</th>\n",
       "      <th>sqft_living15</th>\n",
       "      <th>sqft_lot15</th>\n",
       "      <th>price</th>\n",
       "      <th>was_renovated_post_90</th>\n",
       "      <th>has_basement</th>\n",
       "      <th>viewed</th>\n",
       "    </tr>\n",
       "  </thead>\n",
       "  <tbody>\n",
       "    <tr>\n",
       "      <th>13820</th>\n",
       "      <td>9393700065</td>\n",
       "      <td>2015-04-23</td>\n",
       "      <td>3</td>\n",
       "      <td>2</td>\n",
       "      <td>1300</td>\n",
       "      <td>5120</td>\n",
       "      <td>1.5</td>\n",
       "      <td>0.0</td>\n",
       "      <td>4</td>\n",
       "      <td>6</td>\n",
       "      <td>...</td>\n",
       "      <td>pre_1950</td>\n",
       "      <td>98116</td>\n",
       "      <td>47.5589</td>\n",
       "      <td>-122.394</td>\n",
       "      <td>1090</td>\n",
       "      <td>5124</td>\n",
       "      <td>515000.0</td>\n",
       "      <td>0</td>\n",
       "      <td>0</td>\n",
       "      <td>0</td>\n",
       "    </tr>\n",
       "    <tr>\n",
       "      <th>1703</th>\n",
       "      <td>7978800621</td>\n",
       "      <td>2014-08-11</td>\n",
       "      <td>3</td>\n",
       "      <td>1</td>\n",
       "      <td>1370</td>\n",
       "      <td>56628</td>\n",
       "      <td>1.0</td>\n",
       "      <td>0.0</td>\n",
       "      <td>3</td>\n",
       "      <td>7</td>\n",
       "      <td>...</td>\n",
       "      <td>pre_1950</td>\n",
       "      <td>98003</td>\n",
       "      <td>47.3058</td>\n",
       "      <td>-122.306</td>\n",
       "      <td>1768</td>\n",
       "      <td>8702</td>\n",
       "      <td>229000.0</td>\n",
       "      <td>0</td>\n",
       "      <td>0</td>\n",
       "      <td>0</td>\n",
       "    </tr>\n",
       "    <tr>\n",
       "      <th>4375</th>\n",
       "      <td>223039330</td>\n",
       "      <td>2015-04-07</td>\n",
       "      <td>3</td>\n",
       "      <td>3</td>\n",
       "      <td>3250</td>\n",
       "      <td>5093</td>\n",
       "      <td>2.0</td>\n",
       "      <td>0.0</td>\n",
       "      <td>3</td>\n",
       "      <td>10</td>\n",
       "      <td>...</td>\n",
       "      <td>1997_2015</td>\n",
       "      <td>98146</td>\n",
       "      <td>47.5123</td>\n",
       "      <td>-122.390</td>\n",
       "      <td>2820</td>\n",
       "      <td>7752</td>\n",
       "      <td>1050000.0</td>\n",
       "      <td>0</td>\n",
       "      <td>0</td>\n",
       "      <td>1</td>\n",
       "    </tr>\n",
       "    <tr>\n",
       "      <th>11872</th>\n",
       "      <td>5631501323</td>\n",
       "      <td>2014-08-05</td>\n",
       "      <td>3</td>\n",
       "      <td>2</td>\n",
       "      <td>1340</td>\n",
       "      <td>13560</td>\n",
       "      <td>1.0</td>\n",
       "      <td>0.0</td>\n",
       "      <td>3</td>\n",
       "      <td>7</td>\n",
       "      <td>...</td>\n",
       "      <td>1950_1975</td>\n",
       "      <td>98028</td>\n",
       "      <td>47.7410</td>\n",
       "      <td>-122.234</td>\n",
       "      <td>1540</td>\n",
       "      <td>15000</td>\n",
       "      <td>309500.0</td>\n",
       "      <td>0</td>\n",
       "      <td>0</td>\n",
       "      <td>0</td>\n",
       "    </tr>\n",
       "    <tr>\n",
       "      <th>9625</th>\n",
       "      <td>1773101050</td>\n",
       "      <td>2015-02-20</td>\n",
       "      <td>3</td>\n",
       "      <td>1</td>\n",
       "      <td>960</td>\n",
       "      <td>4560</td>\n",
       "      <td>1.0</td>\n",
       "      <td>0.0</td>\n",
       "      <td>4</td>\n",
       "      <td>7</td>\n",
       "      <td>...</td>\n",
       "      <td>1950_1975</td>\n",
       "      <td>98106</td>\n",
       "      <td>47.5539</td>\n",
       "      <td>-122.365</td>\n",
       "      <td>970</td>\n",
       "      <td>4800</td>\n",
       "      <td>290000.0</td>\n",
       "      <td>0</td>\n",
       "      <td>0</td>\n",
       "      <td>0</td>\n",
       "    </tr>\n",
       "  </tbody>\n",
       "</table>\n",
       "<p>5 rows × 21 columns</p>\n",
       "</div>"
      ],
      "text/plain": [
       "               id       date  bedrooms  bathrooms  sqft_living  sqft_lot  \\\n",
       "13820  9393700065 2015-04-23         3          2         1300      5120   \n",
       "1703   7978800621 2014-08-11         3          1         1370     56628   \n",
       "4375    223039330 2015-04-07         3          3         3250      5093   \n",
       "11872  5631501323 2014-08-05         3          2         1340     13560   \n",
       "9625   1773101050 2015-02-20         3          1          960      4560   \n",
       "\n",
       "       floors  waterfront  condition  grade  ...   yr_built zipcode      lat  \\\n",
       "13820     1.5         0.0          4      6  ...   pre_1950   98116  47.5589   \n",
       "1703      1.0         0.0          3      7  ...   pre_1950   98003  47.3058   \n",
       "4375      2.0         0.0          3     10  ...  1997_2015   98146  47.5123   \n",
       "11872     1.0         0.0          3      7  ...  1950_1975   98028  47.7410   \n",
       "9625      1.0         0.0          4      7  ...  1950_1975   98106  47.5539   \n",
       "\n",
       "          long  sqft_living15  sqft_lot15      price  was_renovated_post_90  \\\n",
       "13820 -122.394           1090        5124   515000.0                      0   \n",
       "1703  -122.306           1768        8702   229000.0                      0   \n",
       "4375  -122.390           2820        7752  1050000.0                      0   \n",
       "11872 -122.234           1540       15000   309500.0                      0   \n",
       "9625  -122.365            970        4800   290000.0                      0   \n",
       "\n",
       "       has_basement  viewed  \n",
       "13820             0       0  \n",
       "1703              0       0  \n",
       "4375              0       1  \n",
       "11872             0       0  \n",
       "9625              0       0  \n",
       "\n",
       "[5 rows x 21 columns]"
      ]
     },
     "execution_count": 82,
     "metadata": {},
     "output_type": "execute_result"
    }
   ],
   "source": [
    "df.head()"
   ]
  },
  {
   "cell_type": "markdown",
   "metadata": {},
   "source": [
    "## Checking outliers"
   ]
  },
  {
   "cell_type": "code",
   "execution_count": 83,
   "metadata": {},
   "outputs": [
    {
     "data": {
      "image/png": "[encoded data removed]",
      "text/plain": [
       "<Figure size 1080x1080 with 20 Axes>"
      ]
     },
     "metadata": {},
     "output_type": "display_data"
    }
   ],
   "source": [
    "df.hist(figsize = (15,15))\n",
    "plt.show()"
   ]
  },
  {
   "cell_type": "markdown",
   "metadata": {},
   "source": [
    "Based on the above, I can see that grade, condition and floors look to be on a resonable scale with no apparent outliers. However, waterfront, was_renovated_post_90, viewed and has_basement all are binary features.\n",
    "\n",
    "Looking at outliers in the columns bedrooms, bathrooms and sqft "
   ]
  },
  {
   "cell_type": "markdown",
   "metadata": {},
   "source": [
    "#### Bedrooms"
   ]
  },
  {
   "cell_type": "code",
   "execution_count": 84,
   "metadata": {},
   "outputs": [
    {
     "data": {
      "text/plain": [
       "3     8824\n",
       "4     6206\n",
       "2     2488\n",
       "5     1444\n",
       "6      241\n",
       "1      178\n",
       "7       35\n",
       "8       11\n",
       "9        6\n",
       "10       2\n",
       "11       1\n",
       "33       1\n",
       "Name: bedrooms, dtype: int64"
      ]
     },
     "execution_count": 84,
     "metadata": {},
     "output_type": "execute_result"
    }
   ],
   "source": [
    "df['bedrooms'].value_counts()"
   ]
  },
  {
   "cell_type": "markdown",
   "metadata": {},
   "source": [
    "33 bedrooms???? seems suspect"
   ]
  },
  {
   "cell_type": "code",
   "execution_count": 85,
   "metadata": {},
   "outputs": [
    {
     "data": {
      "text/html": [
       "<div>\n",
       "<style scoped>\n",
       "    .dataframe tbody tr th:only-of-type {\n",
       "        vertical-align: middle;\n",
       "    }\n",
       "\n",
       "    .dataframe tbody tr th {\n",
       "        vertical-align: top;\n",
       "    }\n",
       "\n",
       "    .dataframe thead th {\n",
       "        text-align: right;\n",
       "    }\n",
       "</style>\n",
       "<table border=\"1\" class=\"dataframe\">\n",
       "  <thead>\n",
       "    <tr style=\"text-align: right;\">\n",
       "      <th></th>\n",
       "      <th>id</th>\n",
       "      <th>date</th>\n",
       "      <th>bedrooms</th>\n",
       "      <th>bathrooms</th>\n",
       "      <th>sqft_living</th>\n",
       "      <th>sqft_lot</th>\n",
       "      <th>floors</th>\n",
       "      <th>waterfront</th>\n",
       "      <th>condition</th>\n",
       "      <th>grade</th>\n",
       "      <th>...</th>\n",
       "      <th>yr_built</th>\n",
       "      <th>zipcode</th>\n",
       "      <th>lat</th>\n",
       "      <th>long</th>\n",
       "      <th>sqft_living15</th>\n",
       "      <th>sqft_lot15</th>\n",
       "      <th>price</th>\n",
       "      <th>was_renovated_post_90</th>\n",
       "      <th>has_basement</th>\n",
       "      <th>viewed</th>\n",
       "    </tr>\n",
       "  </thead>\n",
       "  <tbody>\n",
       "    <tr>\n",
       "      <th>15856</th>\n",
       "      <td>2402100895</td>\n",
       "      <td>2014-06-25</td>\n",
       "      <td>33</td>\n",
       "      <td>2</td>\n",
       "      <td>1620</td>\n",
       "      <td>6000</td>\n",
       "      <td>1.0</td>\n",
       "      <td>0.0</td>\n",
       "      <td>5</td>\n",
       "      <td>7</td>\n",
       "      <td>...</td>\n",
       "      <td>pre_1950</td>\n",
       "      <td>98103</td>\n",
       "      <td>47.6878</td>\n",
       "      <td>-122.331</td>\n",
       "      <td>1330</td>\n",
       "      <td>4700</td>\n",
       "      <td>640000.0</td>\n",
       "      <td>0</td>\n",
       "      <td>1</td>\n",
       "      <td>0</td>\n",
       "    </tr>\n",
       "  </tbody>\n",
       "</table>\n",
       "<p>1 rows × 21 columns</p>\n",
       "</div>"
      ],
      "text/plain": [
       "               id       date  bedrooms  bathrooms  sqft_living  sqft_lot  \\\n",
       "15856  2402100895 2014-06-25        33          2         1620      6000   \n",
       "\n",
       "       floors  waterfront  condition  grade  ...  yr_built zipcode      lat  \\\n",
       "15856     1.0         0.0          5      7  ...  pre_1950   98103  47.6878   \n",
       "\n",
       "          long  sqft_living15  sqft_lot15     price  was_renovated_post_90  \\\n",
       "15856 -122.331           1330        4700  640000.0                      0   \n",
       "\n",
       "       has_basement  viewed  \n",
       "15856             1       0  \n",
       "\n",
       "[1 rows x 21 columns]"
      ]
     },
     "execution_count": 85,
     "metadata": {},
     "output_type": "execute_result"
    }
   ],
   "source": [
    "df[df['bedrooms']==33]"
   ]
  },
  {
   "cell_type": "markdown",
   "metadata": {},
   "source": [
    "This apprears to be an data error. 33 bed with 2 baths and 1330 sqft_living. Far more likely that this entry should be 3 Bedrooms"
   ]
  },
  {
   "cell_type": "code",
   "execution_count": 86,
   "metadata": {},
   "outputs": [],
   "source": [
    "df.loc[15856 , 'bedrooms'] =3"
   ]
  },
  {
   "cell_type": "markdown",
   "metadata": {},
   "source": [
    "Investigating each outlier will be far too time consuming. So I'm going to remove outliers that have a z-score above 3 (where values fall outside 3 standard deviations from the mean)"
   ]
  },
  {
   "cell_type": "markdown",
   "metadata": {},
   "source": [
    "In case of sqft, as these columns contain continous variable I will be focusing on averages rather than edge cases. For latitude and longitude, i will be focusing on core location."
   ]
  },
  {
   "cell_type": "code",
   "execution_count": 87,
   "metadata": {},
   "outputs": [
    {
     "data": {
      "text/plain": [
       "19437"
      ]
     },
     "execution_count": 87,
     "metadata": {},
     "output_type": "execute_result"
    }
   ],
   "source": [
    "originalsize = len(df)\n",
    "originalsize"
   ]
  },
  {
   "cell_type": "code",
   "execution_count": 88,
   "metadata": {},
   "outputs": [],
   "source": [
    "def remove_outliers(df):\n",
    "    variables = ['bedrooms','bathrooms','sqft_living','sqft_lot','sqft_above','lat','long','sqft_living15', 'sqft_lot15']\n",
    "    \n",
    "    for variable in variables:\n",
    "        df = df[np.abs(df[variable]-df[variable].mean()) <= (3*df[variable].std())]\n",
    "        \n",
    "        return df\n",
    "    "
   ]
  },
  {
   "cell_type": "code",
   "execution_count": 89,
   "metadata": {},
   "outputs": [],
   "source": [
    "df = remove_outliers(df)"
   ]
  },
  {
   "cell_type": "code",
   "execution_count": 90,
   "metadata": {},
   "outputs": [
    {
     "data": {
      "text/plain": [
       "19382"
      ]
     },
     "execution_count": 90,
     "metadata": {},
     "output_type": "execute_result"
    }
   ],
   "source": [
    "newsize = len(df)\n",
    "newsize"
   ]
  },
  {
   "cell_type": "code",
   "execution_count": 91,
   "metadata": {},
   "outputs": [
    {
     "data": {
      "text/plain": [
       "0.28"
      ]
     },
     "execution_count": 91,
     "metadata": {},
     "output_type": "execute_result"
    }
   ],
   "source": [
    "round((originalsize-newsize)/originalsize*100,2)"
   ]
  },
  {
   "cell_type": "markdown",
   "metadata": {},
   "source": [
    "Less than 1 % reduction!!! "
   ]
  },
  {
   "cell_type": "markdown",
   "metadata": {},
   "source": [
    "Focusing now on variable price to see if any adjustments need to be made on outliers..."
   ]
  },
  {
   "cell_type": "code",
   "execution_count": 93,
   "metadata": {},
   "outputs": [
    {
     "data": {
      "text/plain": [
       "count      19382.00\n",
       "mean      539637.16\n",
       "std       368123.88\n",
       "min        78000.00\n",
       "25%       322000.00\n",
       "50%       450000.00\n",
       "75%       642757.50\n",
       "max      7700000.00\n",
       "Name: price, dtype: float64"
      ]
     },
     "execution_count": 93,
     "metadata": {},
     "output_type": "execute_result"
    }
   ],
   "source": [
    "df['price'].describe().round(2)"
   ]
  },
  {
   "cell_type": "code",
   "execution_count": 94,
   "metadata": {},
   "outputs": [
    {
     "data": {
      "image/png": "[encoded data removed]",
      "text/plain": [
       "<Figure size 576x396 with 1 Axes>"
      ]
     },
     "metadata": {},
     "output_type": "display_data"
    }
   ],
   "source": [
    "df['price'].hist()\n",
    "plt.xlabel('Price in USD')\n",
    "plt.ylabel('Distribution of Price')\n",
    "plt.show()\n",
    "\n"
   ]
  },
  {
   "cell_type": "code",
   "execution_count": 95,
   "metadata": {},
   "outputs": [
    {
     "name": "stdout",
     "output_type": "stream",
     "text": [
      "0.9 Percentile: 885000.0\n",
      "0.91 Percentile: 915000.0\n",
      "0.92 Percentile: 950000.0\n",
      "0.93 Percentile: 994000.0\n",
      "0.94 Percentile: 1060000.0\n",
      "0.95 Percentile: 1160000.0\n",
      "0.96 Percentile: 1260000.0\n",
      "0.97 Percentile: 1390000.0\n",
      "0.98 Percentile: 1600000.0\n",
      "0.99 Percentile: 1960000.0\n"
     ]
    }
   ],
   "source": [
    "# looking for the .9 percentile\n",
    "for i in range(90,100):\n",
    "    q=i/100\n",
    "    quantile = df['price'].quantile(q=q)\n",
    "    print(f'{q} Percentile: {round(quantile,3)}')\n",
    "\n"
   ]
  },
  {
   "cell_type": "markdown",
   "metadata": {},
   "source": [
    "Removing houses above $2mil. these will need to be reviewed seperately as part of a wider project(additional attributes could be applicable to only these types of houses). "
   ]
  },
  {
   "cell_type": "code",
   "execution_count": 96,
   "metadata": {},
   "outputs": [],
   "source": [
    "df = df[df['price'] < 2000000]"
   ]
  },
  {
   "cell_type": "markdown",
   "metadata": {},
   "source": [
    "#### Location"
   ]
  },
  {
   "cell_type": "markdown",
   "metadata": {},
   "source": [
    "Location is a key feature when it comes to real estate. Looking at the geographical distribution of houses in our dataset to determine where the houses with the highest sales were. "
   ]
  },
  {
   "cell_type": "markdown",
   "metadata": {},
   "source": [
    "Building a scatterplot using latitude and longitude features"
   ]
  },
  {
   "cell_type": "code",
   "execution_count": 97,
   "metadata": {},
   "outputs": [],
   "source": [
    "dfq1 = df.copy()"
   ]
  },
  {
   "cell_type": "code",
   "execution_count": 123,
   "metadata": {},
   "outputs": [
    {
     "data": {
      "image/png": "[encoded data removed]",
      "text/plain": [
       "<Figure size 720x720 with 2 Axes>"
      ]
     },
     "metadata": {},
     "output_type": "display_data"
    }
   ],
   "source": [
    "plt.figure(figsize = (10,10))\n",
    "ax = sns.scatterplot(x = dfq1['long'],y = dfq1['lat'], hue = df['price'], palette = 'nipy_spectral', s=10, legend = None, data = dfq1)\n",
    "norm = plt.Normalize(dfq1['price'].min(),dfq1['price'].max())\n",
    "smap = plt.cm.ScalarMappable(cmap='nipy_spectral',norm=norm)\n",
    "smap.set_array([])\n",
    "\n",
    "ax.figure.colorbar(smap,label = 'Price in USD')\n",
    "\n",
    "plt.xlabel('Longitude')\n",
    "plt.ylabel('Latitude')\n",
    "plt.title('King County House Sales')\n",
    "\n",
    "plt.show()"
   ]
  },
  {
   "cell_type": "markdown",
   "metadata": {},
   "source": [
    "From the above visualization we can already drawinitial insights based on the houses goegraphical locations. The highest house prices are concentrated in the areas between latitude 47.5 to 47.7 and longitude areas between -122.4 and 122. There is also a clear indication that house prices drop to the south of the above highlighted region. \n",
    "\n",
    "Howevere this distribution does not show us enough information around what other impacts affect home prices. for E.g. proximity to water, highways, etc. \n",
    "\n",
    "Without the underlying map it is difficult to gain a better understanding of the visualization. Proceeding to map home sales..."
   ]
  },
  {
   "cell_type": "code",
   "execution_count": 124,
   "metadata": {},
   "outputs": [],
   "source": [
    "dfq1['coord'] = list(zip(dfq1['lat'],dfq1['long']))"
   ]
  },
  {
   "cell_type": "code",
   "execution_count": 125,
   "metadata": {},
   "outputs": [],
   "source": [
    "#defining func to switch lat/long to mercator coordinates\n",
    "def x_coords(x, y):\n",
    "    lat = x\n",
    "    long = y\n",
    "    \n",
    "    r_major = 6378137.00\n",
    "    x = r_major * np.radians(long)\n",
    "    scale = x/long\n",
    "    \n",
    "    y = 180.0/np.pi *np.log(np.tan(np.pi/4.0 + lat * (np.pi/180.0)/2.0)) * scale\n",
    "    \n",
    "    return (x, y)\n",
    "    "
   ]
  },
  {
   "cell_type": "code",
   "execution_count": 126,
   "metadata": {},
   "outputs": [
    {
     "data": {
      "text/html": [
       "<div>\n",
       "<style scoped>\n",
       "    .dataframe tbody tr th:only-of-type {\n",
       "        vertical-align: middle;\n",
       "    }\n",
       "\n",
       "    .dataframe tbody tr th {\n",
       "        vertical-align: top;\n",
       "    }\n",
       "\n",
       "    .dataframe thead th {\n",
       "        text-align: right;\n",
       "    }\n",
       "</style>\n",
       "<table border=\"1\" class=\"dataframe\">\n",
       "  <thead>\n",
       "    <tr style=\"text-align: right;\">\n",
       "      <th></th>\n",
       "      <th>zipcode</th>\n",
       "      <th>mercator_x</th>\n",
       "      <th>mercator_y</th>\n",
       "      <th>price</th>\n",
       "    </tr>\n",
       "  </thead>\n",
       "  <tbody>\n",
       "    <tr>\n",
       "      <th>13820</th>\n",
       "      <td>98116</td>\n",
       "      <td>-1.362484e+07</td>\n",
       "      <td>6.033783e+06</td>\n",
       "      <td>515000.0</td>\n",
       "    </tr>\n",
       "    <tr>\n",
       "      <th>1703</th>\n",
       "      <td>98003</td>\n",
       "      <td>-1.361504e+07</td>\n",
       "      <td>5.992132e+06</td>\n",
       "      <td>229000.0</td>\n",
       "    </tr>\n",
       "    <tr>\n",
       "      <th>4375</th>\n",
       "      <td>98146</td>\n",
       "      <td>-1.362439e+07</td>\n",
       "      <td>6.026099e+06</td>\n",
       "      <td>1050000.0</td>\n",
       "    </tr>\n",
       "    <tr>\n",
       "      <th>11872</th>\n",
       "      <td>98028</td>\n",
       "      <td>-1.360703e+07</td>\n",
       "      <td>6.063874e+06</td>\n",
       "      <td>309500.0</td>\n",
       "    </tr>\n",
       "    <tr>\n",
       "      <th>9625</th>\n",
       "      <td>98106</td>\n",
       "      <td>-1.362161e+07</td>\n",
       "      <td>6.032958e+06</td>\n",
       "      <td>290000.0</td>\n",
       "    </tr>\n",
       "  </tbody>\n",
       "</table>\n",
       "</div>"
      ],
      "text/plain": [
       "       zipcode    mercator_x    mercator_y      price\n",
       "13820    98116 -1.362484e+07  6.033783e+06   515000.0\n",
       "1703     98003 -1.361504e+07  5.992132e+06   229000.0\n",
       "4375     98146 -1.362439e+07  6.026099e+06  1050000.0\n",
       "11872    98028 -1.360703e+07  6.063874e+06   309500.0\n",
       "9625     98106 -1.362161e+07  6.032958e+06   290000.0"
      ]
     },
     "execution_count": 126,
     "metadata": {},
     "output_type": "execute_result"
    }
   ],
   "source": [
    "# obtain list of mercators coordinates\n",
    "mercators = [x_coords(x,y) for x,y in dfq1['coord']]\n",
    "\n",
    "# create column mercators\n",
    "dfq1['mercator'] = mercators\n",
    "\n",
    "# columns mercator_x and mercator_y\n",
    "dfq1[['mercator_x','mercator_y']] = dfq1['mercator'].apply(pd.Series)\n",
    "\n",
    "# Preview columns created\n",
    "dfq1[['zipcode','mercator_x','mercator_y','price']].head()\n",
    "\n",
    "\n"
   ]
  },
  {
   "cell_type": "markdown",
   "metadata": {},
   "source": [
    "with the updated data, now map these using bokeh. Displaying price and zipcode when mousing over the datapoints would be most beneficial, will use tooltips for this. Also as the default is to display numbers in scienfitic format, will use the NumeralTickFormatter to override as goal is to display price in simple format"
   ]
  },
  {
   "cell_type": "code",
   "execution_count": 151,
   "metadata": {},
   "outputs": [
    {
     "ename": "NameError",
     "evalue": "name 'get_provider' is not defined",
     "output_type": "error",
     "traceback": [
      "\u001b[1;31m---------------------------------------------------------------------------\u001b[0m",
      "\u001b[1;31mNameError\u001b[0m                                 Traceback (most recent call last)",
      "\u001b[1;32m<ipython-input-151-13a37a3301ed>\u001b[0m in \u001b[0;36m<module>\u001b[1;34m\u001b[0m\n\u001b[0;32m      2\u001b[0m \u001b[1;33m\u001b[0m\u001b[0m\n\u001b[0;32m      3\u001b[0m \u001b[1;31m# Set map\u001b[0m\u001b[1;33m\u001b[0m\u001b[1;33m\u001b[0m\u001b[1;33m\u001b[0m\u001b[0m\n\u001b[1;32m----> 4\u001b[1;33m \u001b[0mchosentile\u001b[0m \u001b[1;33m=\u001b[0m \u001b[0mget_provider\u001b[0m\u001b[1;33m(\u001b[0m\u001b[0mCARTODBPOSITRON\u001b[0m\u001b[1;33m)\u001b[0m\u001b[1;33m\u001b[0m\u001b[1;33m\u001b[0m\u001b[0m\n\u001b[0m\u001b[0;32m      5\u001b[0m \u001b[1;33m\u001b[0m\u001b[0m\n\u001b[0;32m      6\u001b[0m \u001b[1;31m#Set Palette\u001b[0m\u001b[1;33m\u001b[0m\u001b[1;33m\u001b[0m\u001b[1;33m\u001b[0m\u001b[0m\n",
      "\u001b[1;31mNameError\u001b[0m: name 'get_provider' is not defined"
     ]
    }
   ],
   "source": [
    "# Creating map with Bokeh\n",
    "\n",
    "# Set map\n",
    "chosentile = get_provider(CARTODBPOSITRON)\n",
    "\n",
    "#Set Palette\n",
    "palette = Turbo\n",
    "\n",
    "#Set Source\n",
    "source = CoulmnDataSource(data = dfq1)\n",
    "\n",
    "#Defining color mapper\n",
    "color_mapper = linear_cmap(field_name = 'Price', palette = palette, low = df['price'].min(), high = dfq1['price'].max())\n",
    "\n",
    "#setting tooltips\n",
    "tooltips= [(\"Price\",\"@price\"),(\"Zipcode\",\"@zipcode\")]\n",
    "\n",
    "\n",
    "#Figure\n",
    "p = figure(title = 'King County House Sales', x_axis_type=\"mercator\", y_axis_type = \"mercator\", x_axis_label = 'Longitude', y_axis_label = 'Latitude', tooltips = tooltips)\n",
    "\n",
    "#adding map tile\n",
    "p.add_tile(chosentile)\n",
    "\n",
    "# adding points using mercator coordinates\n",
    "p.circle(x = 'mercator_x', y = 'mercator_y', color = color_mapper, source = source)\n",
    "\n",
    "\n",
    "# Color bar\n",
    "color_bar = ColorBar(color_mapper = color_mapper['transform'], formatter = NumeralTickFormatter(format=\"0,0\"), label_standoff = 13, width=8, location = (0,0))\n",
    "\n",
    "# color bar location\n",
    "p.add_layout (colo_bar, 'right')\n",
    "\n",
    "# display in notebook\n",
    "output_notebook()\n",
    "\n",
    "#show map\n",
    "show(p)\n",
    "\n"
   ]
  },
  {
   "cell_type": "markdown",
   "metadata": {},
   "source": [
    "### House prices by Zipcode"
   ]
  },
  {
   "cell_type": "markdown",
   "metadata": {},
   "source": [
    "Focusing on zipcode data, provided with initial data"
   ]
  },
  {
   "cell_type": "code",
   "execution_count": 152,
   "metadata": {},
   "outputs": [
    {
     "data": {
      "text/plain": [
       "98103    548\n",
       "98038    515\n",
       "98052    514\n",
       "98115    514\n",
       "98034    491\n",
       "        ... \n",
       "98010     93\n",
       "98102     91\n",
       "98024     73\n",
       "98148     55\n",
       "98039     28\n",
       "Name: zipcode, Length: 70, dtype: int64"
      ]
     },
     "execution_count": 152,
     "metadata": {},
     "output_type": "execute_result"
    }
   ],
   "source": [
    "dfq1['zipcode'].value_counts()"
   ]
  },
  {
   "cell_type": "markdown",
   "metadata": {},
   "source": [
    "All in, 70 unique zipcodes represented in the dataset\n",
    "\n",
    "Creating a heatmap to explore median home prices per zipcode and to see if zipcode tiers can be set. will use geojson file downloaded from King County GIS Website.(here)"
   ]
  },
  {
   "cell_type": "code",
   "execution_count": 155,
   "metadata": {},
   "outputs": [
    {
     "data": {
      "text/html": [
       "<div>\n",
       "<style scoped>\n",
       "    .dataframe tbody tr th:only-of-type {\n",
       "        vertical-align: middle;\n",
       "    }\n",
       "\n",
       "    .dataframe tbody tr th {\n",
       "        vertical-align: top;\n",
       "    }\n",
       "\n",
       "    .dataframe thead th {\n",
       "        text-align: right;\n",
       "    }\n",
       "</style>\n",
       "<table border=\"1\" class=\"dataframe\">\n",
       "  <thead>\n",
       "    <tr style=\"text-align: right;\">\n",
       "      <th></th>\n",
       "      <th>OBJECTID</th>\n",
       "      <th>ZIP</th>\n",
       "      <th>ZIPCODE</th>\n",
       "      <th>COUNTY</th>\n",
       "      <th>ZIP_TYPE</th>\n",
       "      <th>Shape_Length</th>\n",
       "      <th>Shape_Area</th>\n",
       "      <th>geometry</th>\n",
       "    </tr>\n",
       "  </thead>\n",
       "  <tbody>\n",
       "    <tr>\n",
       "      <th>0</th>\n",
       "      <td>1</td>\n",
       "      <td>98031</td>\n",
       "      <td>98031</td>\n",
       "      <td>033</td>\n",
       "      <td>Standard</td>\n",
       "      <td>117508.231410</td>\n",
       "      <td>2.280129e+08</td>\n",
       "      <td>POLYGON ((-122.21842 47.43750, -122.21896 47.4...</td>\n",
       "    </tr>\n",
       "    <tr>\n",
       "      <th>1</th>\n",
       "      <td>2</td>\n",
       "      <td>98032</td>\n",
       "      <td>98032</td>\n",
       "      <td>033</td>\n",
       "      <td>Standard</td>\n",
       "      <td>166737.665152</td>\n",
       "      <td>4.826754e+08</td>\n",
       "      <td>MULTIPOLYGON (((-122.24187 47.44122, -122.2436...</td>\n",
       "    </tr>\n",
       "    <tr>\n",
       "      <th>2</th>\n",
       "      <td>3</td>\n",
       "      <td>98033</td>\n",
       "      <td>98033</td>\n",
       "      <td>033</td>\n",
       "      <td>Standard</td>\n",
       "      <td>101363.832386</td>\n",
       "      <td>2.566747e+08</td>\n",
       "      <td>POLYGON ((-122.20571 47.65170, -122.20571 47.6...</td>\n",
       "    </tr>\n",
       "  </tbody>\n",
       "</table>\n",
       "</div>"
      ],
      "text/plain": [
       "   OBJECTID    ZIP ZIPCODE COUNTY  ZIP_TYPE   Shape_Length    Shape_Area  \\\n",
       "0         1  98031   98031    033  Standard  117508.231410  2.280129e+08   \n",
       "1         2  98032   98032    033  Standard  166737.665152  4.826754e+08   \n",
       "2         3  98033   98033    033  Standard  101363.832386  2.566747e+08   \n",
       "\n",
       "                                            geometry  \n",
       "0  POLYGON ((-122.21842 47.43750, -122.21896 47.4...  \n",
       "1  MULTIPOLYGON (((-122.24187 47.44122, -122.2436...  \n",
       "2  POLYGON ((-122.20571 47.65170, -122.20571 47.6...  "
      ]
     },
     "execution_count": 155,
     "metadata": {},
     "output_type": "execute_result"
    }
   ],
   "source": [
    "# Load geojson file\n",
    "geodatafilename = 'Zipcodes_for_King_County_and_Surrounding_Area_Shorelines__zipcode_shore_area.geojson.txt'\n",
    "gdf = gpd.read_file(geodatafilename)\n",
    "gdf[:3]"
   ]
  },
  {
   "cell_type": "code",
   "execution_count": 156,
   "metadata": {},
   "outputs": [
    {
     "data": {
      "text/html": [
       "<div>\n",
       "<style scoped>\n",
       "    .dataframe tbody tr th:only-of-type {\n",
       "        vertical-align: middle;\n",
       "    }\n",
       "\n",
       "    .dataframe tbody tr th {\n",
       "        vertical-align: top;\n",
       "    }\n",
       "\n",
       "    .dataframe thead th {\n",
       "        text-align: right;\n",
       "    }\n",
       "</style>\n",
       "<table border=\"1\" class=\"dataframe\">\n",
       "  <thead>\n",
       "    <tr style=\"text-align: right;\">\n",
       "      <th></th>\n",
       "      <th>ZIPCODE</th>\n",
       "      <th>price</th>\n",
       "    </tr>\n",
       "  </thead>\n",
       "  <tbody>\n",
       "    <tr>\n",
       "      <th>0</th>\n",
       "      <td>98001</td>\n",
       "      <td>261000.0</td>\n",
       "    </tr>\n",
       "    <tr>\n",
       "      <th>1</th>\n",
       "      <td>98002</td>\n",
       "      <td>235000.0</td>\n",
       "    </tr>\n",
       "    <tr>\n",
       "      <th>2</th>\n",
       "      <td>98003</td>\n",
       "      <td>266500.0</td>\n",
       "    </tr>\n",
       "    <tr>\n",
       "      <th>3</th>\n",
       "      <td>98004</td>\n",
       "      <td>1000000.0</td>\n",
       "    </tr>\n",
       "    <tr>\n",
       "      <th>4</th>\n",
       "      <td>98005</td>\n",
       "      <td>760000.0</td>\n",
       "    </tr>\n",
       "  </tbody>\n",
       "</table>\n",
       "</div>"
      ],
      "text/plain": [
       "  ZIPCODE      price\n",
       "0   98001   261000.0\n",
       "1   98002   235000.0\n",
       "2   98003   266500.0\n",
       "3   98004  1000000.0\n",
       "4   98005   760000.0"
      ]
     },
     "execution_count": 156,
     "metadata": {},
     "output_type": "execute_result"
    }
   ],
   "source": [
    "\n",
    "# Extract price and zipcode from our dataset\n",
    "dfrel = dfq1[['zipcode', 'price']]\n",
    "\n",
    "# Groupby zipcode and take median price\n",
    "dfrel = dfrel.groupby(dfrel['zipcode']).median()\n",
    "\n",
    "# Reset index after groupy\n",
    "dfrel = dfrel.reset_index()\n",
    "\n",
    "# Change type to str\n",
    "dfrel['zipcode'] = dfrel['zipcode'].astype(str)\n",
    "\n",
    "# Rename column to match type\n",
    "dfrel = dfrel.rename(columns = {'zipcode' : 'ZIPCODE'})\n",
    "\n",
    "# Check\n",
    "dfrel.head()"
   ]
  },
  {
   "cell_type": "code",
   "execution_count": 159,
   "metadata": {},
   "outputs": [
    {
     "data": {
      "text/html": [
       "<div>\n",
       "<style scoped>\n",
       "    .dataframe tbody tr th:only-of-type {\n",
       "        vertical-align: middle;\n",
       "    }\n",
       "\n",
       "    .dataframe tbody tr th {\n",
       "        vertical-align: top;\n",
       "    }\n",
       "\n",
       "    .dataframe thead th {\n",
       "        text-align: right;\n",
       "    }\n",
       "</style>\n",
       "<table border=\"1\" class=\"dataframe\">\n",
       "  <thead>\n",
       "    <tr style=\"text-align: right;\">\n",
       "      <th></th>\n",
       "      <th>OBJECTID</th>\n",
       "      <th>ZIP</th>\n",
       "      <th>ZIPCODE</th>\n",
       "      <th>COUNTY</th>\n",
       "      <th>ZIP_TYPE</th>\n",
       "      <th>Shape_Length</th>\n",
       "      <th>Shape_Area</th>\n",
       "      <th>geometry</th>\n",
       "      <th>price</th>\n",
       "    </tr>\n",
       "  </thead>\n",
       "  <tbody>\n",
       "    <tr>\n",
       "      <th>0</th>\n",
       "      <td>1</td>\n",
       "      <td>98031</td>\n",
       "      <td>98031</td>\n",
       "      <td>033</td>\n",
       "      <td>Standard</td>\n",
       "      <td>117508.231410</td>\n",
       "      <td>2.280129e+08</td>\n",
       "      <td>POLYGON ((-122.21842 47.43750, -122.21896 47.4...</td>\n",
       "      <td>288000.0</td>\n",
       "    </tr>\n",
       "    <tr>\n",
       "      <th>1</th>\n",
       "      <td>2</td>\n",
       "      <td>98032</td>\n",
       "      <td>98032</td>\n",
       "      <td>033</td>\n",
       "      <td>Standard</td>\n",
       "      <td>166737.665152</td>\n",
       "      <td>4.826754e+08</td>\n",
       "      <td>MULTIPOLYGON (((-122.24187 47.44122, -122.2436...</td>\n",
       "      <td>249000.0</td>\n",
       "    </tr>\n",
       "    <tr>\n",
       "      <th>2</th>\n",
       "      <td>3</td>\n",
       "      <td>98033</td>\n",
       "      <td>98033</td>\n",
       "      <td>033</td>\n",
       "      <td>Standard</td>\n",
       "      <td>101363.832386</td>\n",
       "      <td>2.566747e+08</td>\n",
       "      <td>POLYGON ((-122.20571 47.65170, -122.20571 47.6...</td>\n",
       "      <td>675000.0</td>\n",
       "    </tr>\n",
       "    <tr>\n",
       "      <th>3</th>\n",
       "      <td>4</td>\n",
       "      <td>98034</td>\n",
       "      <td>98034</td>\n",
       "      <td>033</td>\n",
       "      <td>Standard</td>\n",
       "      <td>98550.460072</td>\n",
       "      <td>2.725072e+08</td>\n",
       "      <td>POLYGON ((-122.17551 47.73706, -122.17551 47.7...</td>\n",
       "      <td>446000.0</td>\n",
       "    </tr>\n",
       "    <tr>\n",
       "      <th>4</th>\n",
       "      <td>5</td>\n",
       "      <td>98030</td>\n",
       "      <td>98030</td>\n",
       "      <td>033</td>\n",
       "      <td>Standard</td>\n",
       "      <td>94351.274949</td>\n",
       "      <td>2.000954e+08</td>\n",
       "      <td>POLYGON ((-122.16746 47.38549, -122.16746 47.3...</td>\n",
       "      <td>282000.0</td>\n",
       "    </tr>\n",
       "  </tbody>\n",
       "</table>\n",
       "</div>"
      ],
      "text/plain": [
       "   OBJECTID    ZIP ZIPCODE COUNTY  ZIP_TYPE   Shape_Length    Shape_Area  \\\n",
       "0         1  98031   98031    033  Standard  117508.231410  2.280129e+08   \n",
       "1         2  98032   98032    033  Standard  166737.665152  4.826754e+08   \n",
       "2         3  98033   98033    033  Standard  101363.832386  2.566747e+08   \n",
       "3         4  98034   98034    033  Standard   98550.460072  2.725072e+08   \n",
       "4         5  98030   98030    033  Standard   94351.274949  2.000954e+08   \n",
       "\n",
       "                                            geometry     price  \n",
       "0  POLYGON ((-122.21842 47.43750, -122.21896 47.4...  288000.0  \n",
       "1  MULTIPOLYGON (((-122.24187 47.44122, -122.2436...  249000.0  \n",
       "2  POLYGON ((-122.20571 47.65170, -122.20571 47.6...  675000.0  \n",
       "3  POLYGON ((-122.17551 47.73706, -122.17551 47.7...  446000.0  \n",
       "4  POLYGON ((-122.16746 47.38549, -122.16746 47.3...  282000.0  "
      ]
     },
     "execution_count": 159,
     "metadata": {},
     "output_type": "execute_result"
    }
   ],
   "source": [
    "# Merge dataframes\n",
    "merged = gdf.merge(dfrel, how = 'left', on = 'ZIPCODE')\n",
    "merged.head()"
   ]
  },
  {
   "cell_type": "markdown",
   "metadata": {},
   "source": [
    "The geojson file contains additional zipcodes for which we do not have any price information. As such we will drop those additional zip codes."
   ]
  },
  {
   "cell_type": "code",
   "execution_count": 158,
   "metadata": {},
   "outputs": [],
   "source": [
    "# Remove entries with null values\n",
    "merged = merged.dropna()"
   ]
  },
  {
   "cell_type": "markdown",
   "metadata": {},
   "source": [
    "Let us have a look at descriptive statistics for price to help determine the color_mapper boundaries when plotting the heatmap."
   ]
  },
  {
   "cell_type": "code",
   "execution_count": 160,
   "metadata": {},
   "outputs": [
    {
     "data": {
      "text/plain": [
       "count         74.000\n",
       "mean      487807.412\n",
       "std       215124.822\n",
       "min       235000.000\n",
       "25%       313125.000\n",
       "50%       449375.000\n",
       "75%       577412.500\n",
       "max      1500000.000\n",
       "Name: price, dtype: float64"
      ]
     },
     "execution_count": 160,
     "metadata": {},
     "output_type": "execute_result"
    }
   ],
   "source": [
    "# Get statistics for price\n",
    "merged['price'].describe().round(3)"
   ]
  },
  {
   "cell_type": "markdown",
   "metadata": {},
   "source": [
    "We now turn the merged dataframe back into a json file, which will be the data source for our Bokeh plot. We will choose to display median house price and zipcode on hover."
   ]
  },
  {
   "cell_type": "code",
   "execution_count": 161,
   "metadata": {},
   "outputs": [],
   "source": [
    "# Turn the merged data frame back into a json file  \n",
    "merged_json = json.loads(merged.to_json())\n",
    "json_data = json.dumps(merged_json)"
   ]
  },
  {
   "cell_type": "code",
   "execution_count": 162,
   "metadata": {},
   "outputs": [
    {
     "ename": "NameError",
     "evalue": "name 'Turbo256' is not defined",
     "output_type": "error",
     "traceback": [
      "\u001b[1;31m---------------------------------------------------------------------------\u001b[0m",
      "\u001b[1;31mNameError\u001b[0m                                 Traceback (most recent call last)",
      "\u001b[1;32m<ipython-input-162-94ba6a211258>\u001b[0m in \u001b[0;36m<module>\u001b[1;34m\u001b[0m\n\u001b[0;32m      2\u001b[0m \u001b[1;33m\u001b[0m\u001b[0m\n\u001b[0;32m      3\u001b[0m \u001b[1;31m# Set palette\u001b[0m\u001b[1;33m\u001b[0m\u001b[1;33m\u001b[0m\u001b[1;33m\u001b[0m\u001b[0m\n\u001b[1;32m----> 4\u001b[1;33m \u001b[0mpalette\u001b[0m \u001b[1;33m=\u001b[0m \u001b[0mTurbo256\u001b[0m\u001b[1;33m\u001b[0m\u001b[1;33m\u001b[0m\u001b[0m\n\u001b[0m\u001b[0;32m      5\u001b[0m \u001b[1;33m\u001b[0m\u001b[0m\n\u001b[0;32m      6\u001b[0m \u001b[1;31m# Set data source\u001b[0m\u001b[1;33m\u001b[0m\u001b[1;33m\u001b[0m\u001b[1;33m\u001b[0m\u001b[0m\n",
      "\u001b[1;31mNameError\u001b[0m: name 'Turbo256' is not defined"
     ]
    }
   ],
   "source": [
    "# Plot map using Bokeh\n",
    "\n",
    "# Set palette\n",
    "palette = Turbo256\n",
    "\n",
    "# Set data source\n",
    "geosource = GeoJSONDataSource(geojson = json_data)\n",
    "\n",
    "# Define tools\n",
    "TOOLS = \"pan,wheel_zoom,reset,hover,save\"\n",
    "\n",
    "# Define color mapper\n",
    "color_mapper = LinearColorMapper(palette = palette, low = merged['price'].min(), \n",
    "                                 high = merged['price'].max(),  nan_color = '#d9d9d9')\n",
    "\n",
    "\n",
    "#Set the size and title of the graph\n",
    "p = figure(title = 'King County Median House Prices per Zipcode', tools = TOOLS, \n",
    "           x_axis_label = 'Longitude', y_axis_label = 'Latitude', plot_height = 500 , plot_width = 600, \n",
    "           toolbar_location = 'right', tooltips=[(\"Zip Code\",\"@ZIPCODE\"),(\"Median Price\", \"@price\")])\n",
    "\n",
    "\n",
    "#Makes it so there are no grid lines\n",
    "p.grid.grid_line_color = None\n",
    "\n",
    "# Color sections\n",
    "p.patches('xs','ys', source = geosource, fill_color = {'field':'price', 'transform' : color_mapper},\n",
    "         line_color = 'black', line_width = 0.25, fill_alpha = 1)\n",
    "\n",
    "# Define colorbar\n",
    "color_bar = ColorBar(color_mapper=color_mapper, label_standoff=13, \n",
    "                     formatter = NumeralTickFormatter(format=\"0,0\"), width = 8,location = (0,0))\n",
    "\n",
    "p.add_layout(color_bar, 'right')\n",
    "\n",
    "output_notebook()\n",
    "\n",
    "show(p)"
   ]
  },
  {
   "cell_type": "code",
   "execution_count": null,
   "metadata": {},
   "outputs": [],
   "source": []
  }
 ],
 "metadata": {
  "kernelspec": {
   "display_name": "Python 3",
   "language": "python",
   "name": "python3"
  },
  "language_info": {
   "codemirror_mode": {
    "name": "ipython",
    "version": 3
   },
   "file_extension": ".py",
   "mimetype": "text/x-python",
   "name": "python",
   "nbconvert_exporter": "python",
   "pygments_lexer": "ipython3",
   "version": "3.6.9"
  }
 },
 "nbformat": 4,
 "nbformat_minor": 4
}
